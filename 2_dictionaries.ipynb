{
 "cells": [
  {
   "cell_type": "markdown",
   "metadata": {},
   "source": [
    "# Dictionaries"
   ]
  },
  {
   "cell_type": "code",
   "execution_count": null,
   "metadata": {},
   "outputs": [],
   "source": [
    "D = {'gene':'AT00666','lenght':530,'exons':2}\n",
    "D"
   ]
  },
  {
   "cell_type": "code",
   "execution_count": null,
   "metadata": {},
   "outputs": [],
   "source": [
    "D['gene']    #fetch the key gene"
   ]
  },
  {
   "cell_type": "code",
   "execution_count": null,
   "metadata": {},
   "outputs": [],
   "source": [
    "D['lenght']+=10    # add 10 to a quantity value\n",
    "D['lenght']"
   ]
  },
  {
   "cell_type": "markdown",
   "metadata": {},
   "source": [
    "### Nesting"
   ]
  },
  {
   "cell_type": "code",
   "execution_count": null,
   "metadata": {},
   "outputs": [],
   "source": [
    "# gene name as nested dict\n",
    "D = {'gene':{'name':'AT00666','ID':'PRR','Familia':'XXT'}\n",
    "     ,'lenght':530,'exons':2}"
   ]
  },
  {
   "cell_type": "code",
   "execution_count": null,
   "metadata": {},
   "outputs": [],
   "source": [
    "D"
   ]
  },
  {
   "cell_type": "code",
   "execution_count": null,
   "metadata": {},
   "outputs": [],
   "source": [
    "D['gene']"
   ]
  },
  {
   "cell_type": "code",
   "execution_count": null,
   "metadata": {},
   "outputs": [],
   "source": [
    "D['gene']['ID']"
   ]
  },
  {
   "cell_type": "code",
   "execution_count": null,
   "metadata": {},
   "outputs": [],
   "source": [
    "# assigning new keys\n",
    "D['NewKey'] = 99"
   ]
  },
  {
   "cell_type": "code",
   "execution_count": null,
   "metadata": {},
   "outputs": [],
   "source": [
    "D"
   ]
  },
  {
   "cell_type": "code",
   "execution_count": null,
   "metadata": {},
   "outputs": [],
   "source": [
    "## searching keys\n",
    "'exons' in D\n",
    "#'KeyNoExixsting' in D"
   ]
  },
  {
   "cell_type": "markdown",
   "metadata": {},
   "source": [
    "### Sorting a list by a common key (using the opertator module's itemgetter)"
   ]
  },
  {
   "cell_type": "code",
   "execution_count": 3,
   "metadata": {},
   "outputs": [
    {
     "data": {
      "text/plain": [
       "[{'fname': 'Gene1009', 'lenght': 200, 'GO_Term': 'AB657'},\n",
       " {'fname': 'Gene2009', 'lenght': 233, 'GO_Term': 'CB657'},\n",
       " {'fname': 'Gene2109', 'lenght': 520, 'GO_Term': 'AB757'},\n",
       " {'fname': 'Gene2209', 'lenght': 350, 'GO_Term': 'DF657'},\n",
       " {'fname': 'Gene1019', 'lenght': 400, 'GO_Term': 'AD657'}]"
      ]
     },
     "execution_count": 3,
     "metadata": {},
     "output_type": "execute_result"
    }
   ],
   "source": [
    "\n",
    "rows = [\n",
    "    {'fname':'Gene1009', 'lenght':200, 'GO_Term':'AB657'},\n",
    "    {'fname':'Gene2009', 'lenght':233, 'GO_Term':'CB657'},\n",
    "    {'fname':'Gene2109', 'lenght':520, 'GO_Term':'AB757'},\n",
    "    {'fname':'Gene2209', 'lenght':350, 'GO_Term':'DF657'},\n",
    "    {'fname':'Gene1019', 'lenght':400, 'GO_Term':'AD657'},\n",
    "]\n",
    "rows\n"
   ]
  },
  {
   "cell_type": "code",
   "execution_count": 4,
   "metadata": {},
   "outputs": [
    {
     "data": {
      "text/plain": [
       "[{'fname': 'Gene1009', 'lenght': 200, 'GO_Term': 'AB657'},\n",
       " {'fname': 'Gene1019', 'lenght': 400, 'GO_Term': 'AD657'},\n",
       " {'fname': 'Gene2009', 'lenght': 233, 'GO_Term': 'CB657'},\n",
       " {'fname': 'Gene2109', 'lenght': 520, 'GO_Term': 'AB757'},\n",
       " {'fname': 'Gene2209', 'lenght': 350, 'GO_Term': 'DF657'}]"
      ]
     },
     "execution_count": 4,
     "metadata": {},
     "output_type": "execute_result"
    }
   ],
   "source": [
    "from operator import itemgetter\n",
    "\n",
    "rows_by_name = sorted(rows, key=itemgetter('fname'))\n",
    "rows_by_name"
   ]
  },
  {
   "cell_type": "code",
   "execution_count": 5,
   "metadata": {},
   "outputs": [
    {
     "data": {
      "text/plain": [
       "[{'fname': 'Gene1009', 'lenght': 200, 'GO_Term': 'AB657'},\n",
       " {'fname': 'Gene2009', 'lenght': 233, 'GO_Term': 'CB657'},\n",
       " {'fname': 'Gene2209', 'lenght': 350, 'GO_Term': 'DF657'},\n",
       " {'fname': 'Gene1019', 'lenght': 400, 'GO_Term': 'AD657'},\n",
       " {'fname': 'Gene2109', 'lenght': 520, 'GO_Term': 'AB757'}]"
      ]
     },
     "execution_count": 5,
     "metadata": {},
     "output_type": "execute_result"
    }
   ],
   "source": [
    "rows_by_len = sorted(rows, key=itemgetter('lenght'))\n",
    "rows_by_len"
   ]
  },
  {
   "cell_type": "code",
   "execution_count": 6,
   "metadata": {},
   "outputs": [
    {
     "data": {
      "text/plain": [
       "[{'fname': 'Gene1009', 'lenght': 200, 'GO_Term': 'AB657'},\n",
       " {'fname': 'Gene1019', 'lenght': 400, 'GO_Term': 'AD657'},\n",
       " {'fname': 'Gene2009', 'lenght': 233, 'GO_Term': 'CB657'},\n",
       " {'fname': 'Gene2109', 'lenght': 520, 'GO_Term': 'AB757'},\n",
       " {'fname': 'Gene2209', 'lenght': 350, 'GO_Term': 'DF657'}]"
      ]
     },
     "execution_count": 6,
     "metadata": {},
     "output_type": "execute_result"
    }
   ],
   "source": [
    "# sorting by multiple keys\n",
    "rows_by_nl = sorted(rows, key=itemgetter('fname','lenght'))\n",
    "rows_by_nl"
   ]
  },
  {
   "cell_type": "code",
   "execution_count": 21,
   "metadata": {},
   "outputs": [
    {
     "data": {
      "text/plain": [
       "[{'fname': 'Gene1229', 'lenght': 200, 'GO_Term': 'AD657'},\n",
       " {'fname': 'Gene2009', 'lenght': 233, 'GO_Term': 'CB657'},\n",
       " {'fname': 'Gene2109', 'lenght': 520, 'GO_Term': 'AB757'},\n",
       " {'fname': 'Gene2209', 'lenght': 350, 'GO_Term': 'DF657'},\n",
       " {'fname': 'Gene1019', 'lenght': 400, 'GO_Term': 'AD657'},\n",
       " {'fname': 'Gene2109', 'lenght': 520, 'GO_Term': 'AD657'},\n",
       " {'fname': 'Gene2209', 'lenght': 350, 'GO_Term': 'CB657'},\n",
       " {'fname': 'Gene1019', 'lenght': 400, 'GO_Term': 'CB657'},\n",
       " {'fname': 'Gene5509', 'lenght': 350, 'GO_Term': 'FF657'},\n",
       " {'fname': 'Gene1119', 'lenght': 400, 'GO_Term': 'FF657'},\n",
       " {'fname': 'Gene2909', 'lenght': 520, 'GO_Term': 'FF657'},\n",
       " {'fname': 'Gene2333', 'lenght': 350, 'GO_Term': 'CB657'},\n",
       " {'fname': 'Gene1111', 'lenght': 400, 'GO_Term': 'CB657'}]"
      ]
     },
     "execution_count": 21,
     "metadata": {},
     "output_type": "execute_result"
    }
   ],
   "source": [
    "## Grouping togheter base on a field with \"itertools.groupby()\"\n",
    "rows = [\n",
    "    {'fname':'Gene1229', 'lenght':200, 'GO_Term':'AD657'},\n",
    "    {'fname':'Gene2009', 'lenght':233, 'GO_Term':'CB657'},\n",
    "    {'fname':'Gene2109', 'lenght':520, 'GO_Term':'AB757'},\n",
    "    {'fname':'Gene2209', 'lenght':350, 'GO_Term':'DF657'},\n",
    "    {'fname':'Gene1019', 'lenght':400, 'GO_Term':'AD657'},\n",
    "    {'fname':'Gene2109', 'lenght':520, 'GO_Term':'AD657'},\n",
    "    {'fname':'Gene2209', 'lenght':350, 'GO_Term':'CB657'},\n",
    "    {'fname':'Gene1019', 'lenght':400, 'GO_Term':'CB657'},\n",
    "    {'fname':'Gene5509', 'lenght':350, 'GO_Term':'FF657'},\n",
    "    {'fname':'Gene1119', 'lenght':400, 'GO_Term':'FF657'},\n",
    "    {'fname':'Gene2909', 'lenght':520, 'GO_Term':'FF657'},\n",
    "    {'fname':'Gene2333', 'lenght':350, 'GO_Term':'CB657'},\n",
    "    {'fname':'Gene1111', 'lenght':400, 'GO_Term':'CB657'},\n",
    "]\n",
    "rows"
   ]
  },
  {
   "cell_type": "code",
   "execution_count": 20,
   "metadata": {},
   "outputs": [
    {
     "name": "stdout",
     "output_type": "stream",
     "text": [
      "AB757\n",
      "     {'fname': 'Gene2109', 'lenght': 520, 'GO_Term': 'AB757'}\n",
      "AD657\n",
      "     {'fname': 'Gene1229', 'lenght': 200, 'GO_Term': 'AD657'}\n",
      "     {'fname': 'Gene1019', 'lenght': 400, 'GO_Term': 'AD657'}\n",
      "     {'fname': 'Gene2109', 'lenght': 520, 'GO_Term': 'AD657'}\n",
      "CB657\n",
      "     {'fname': 'Gene2009', 'lenght': 233, 'GO_Term': 'CB657'}\n",
      "     {'fname': 'Gene2209', 'lenght': 350, 'GO_Term': 'CB657'}\n",
      "     {'fname': 'Gene1019', 'lenght': 400, 'GO_Term': 'CB657'}\n",
      "     {'fname': 'Gene2333', 'lenght': 350, 'GO_Term': 'CB657'}\n",
      "     {'fname': 'Gene1111', 'lenght': 400, 'GO_Term': 'CB657'}\n",
      "DF657\n",
      "     {'fname': 'Gene2209', 'lenght': 350, 'GO_Term': 'DF657'}\n",
      "FF657\n",
      "     {'fname': 'Gene5509', 'lenght': 350, 'GO_Term': 'FF657'}\n",
      "     {'fname': 'Gene1119', 'lenght': 400, 'GO_Term': 'FF657'}\n",
      "     {'fname': 'Gene2909', 'lenght': 520, 'GO_Term': 'FF657'}\n"
     ]
    }
   ],
   "source": [
    "from itertools import groupby\n",
    "\n",
    "# First sort\n",
    "rows.sort(key=itemgetter('GO_Term'))\n",
    "\n",
    "# Iterate in groups\n",
    "for GO_term, items in groupby(rows, key=itemgetter('GO_Term')):\n",
    "    print(GO_term)\n",
    "    for i in items:\n",
    "        print('    ', i)"
   ]
  },
  {
   "cell_type": "code",
   "execution_count": 17,
   "metadata": {},
   "outputs": [
    {
     "data": {
      "text/plain": [
       "[{'fname': 'Gene1229', 'lenght': 200, 'GO_Term': 'AD657'},\n",
       " {'fname': 'Gene2009', 'lenght': 233, 'GO_Term': 'CB657'},\n",
       " {'fname': 'Gene2109', 'lenght': 520, 'GO_Term': 'AB757'},\n",
       " {'fname': 'Gene2209', 'lenght': 350, 'GO_Term': 'DF657'},\n",
       " {'fname': 'Gene1019', 'lenght': 400, 'GO_Term': 'AD657'},\n",
       " {'fname': 'Gene2109', 'lenght': 520, 'GO_Term': 'AD657'},\n",
       " {'fname': 'Gene2209', 'lenght': 350, 'GO_Term': 'CB657'},\n",
       " {'fname': 'Gene1019', 'lenght': 400, 'GO_Term': 'CB657'},\n",
       " {'fname': 'Gene5509', 'lenght': 350, 'GO_Term': 'FF657'},\n",
       " {'fname': 'Gene1119', 'lenght': 400, 'GO_Term': 'FF657'},\n",
       " {'fname': 'Gene2909', 'lenght': 520, 'GO_Term': 'FF657'},\n",
       " {'GO_Term': 'CB657'},\n",
       " {'GO_Term': 'CB657'}]"
      ]
     },
     "execution_count": 17,
     "metadata": {},
     "output_type": "execute_result"
    }
   ],
   "source": [
    "## If the dic not have the same structure, see what happen\n",
    "rows = [\n",
    "    {'fname':'Gene1229', 'lenght':200, 'GO_Term':'AD657'},\n",
    "    {'fname':'Gene2009', 'lenght':233, 'GO_Term':'CB657'},\n",
    "    {'fname':'Gene2109', 'lenght':520, 'GO_Term':'AB757'},\n",
    "    {'fname':'Gene2209', 'lenght':350, 'GO_Term':'DF657'},\n",
    "    {'fname':'Gene1019', 'lenght':400, 'GO_Term':'AD657'},\n",
    "    {'fname':'Gene2109', 'lenght':520, 'GO_Term':'AD657'},\n",
    "    {'fname':'Gene2209', 'lenght':350, 'GO_Term':'CB657'},\n",
    "    {'fname':'Gene1019', 'lenght':400, 'GO_Term':'CB657'},\n",
    "    {'fname':'Gene5509', 'lenght':350, 'GO_Term':'FF657'},\n",
    "    {'fname':'Gene1119', 'lenght':400, 'GO_Term':'FF657'},\n",
    "    {'fname':'Gene2909', 'lenght':520, 'GO_Term':'FF657'},\n",
    "    {'GO_Term':'CB657'},\n",
    "    {'GO_Term':'CB657'},\n",
    "]\n",
    "rows"
   ]
  },
  {
   "cell_type": "code",
   "execution_count": 39,
   "metadata": {},
   "outputs": [],
   "source": [
    "## Grouping togheter base on a field with \"itertools.groupby()\"\n",
    "rows2 = {'ID':'Gene1229', 'star':200, 'GO_Term':'AD657'}\n",
    "rows3 = {'Gene':'Gene2009', 'star':1233, 'GO_Term':'CB657'}"
   ]
  },
  {
   "cell_type": "code",
   "execution_count": 46,
   "metadata": {},
   "outputs": [
    {
     "data": {
      "text/plain": [
       "ChainMap({'ID': 'Gene1229', 'star': 200, 'GO_Term': 'AD657'}, {'Gene': 'Gene2009', 'star': 1233, 'GO_Term': 'CB657'})"
      ]
     },
     "execution_count": 46,
     "metadata": {},
     "output_type": "execute_result"
    }
   ],
   "source": [
    "# Need to check 2 dicts (using ChainMap class from the collections module) \n",
    "# e.g: first chk in rows2 and if not found check in rows\n",
    "\n",
    "from collections import ChainMap\n",
    "c=ChainMap(rows2,rows3)\n",
    "c"
   ]
  },
  {
   "cell_type": "code",
   "execution_count": 47,
   "metadata": {},
   "outputs": [
    {
     "name": "stdout",
     "output_type": "stream",
     "text": [
      "Gene1229\n",
      "Gene2009\n"
     ]
    }
   ],
   "source": [
    "print(c['ID'])\n",
    "print(c['Gene'])"
   ]
  },
  {
   "cell_type": "code",
   "execution_count": null,
   "metadata": {},
   "outputs": [],
   "source": []
  }
 ],
 "metadata": {
  "kernelspec": {
   "display_name": "Python 3",
   "language": "python",
   "name": "python3"
  },
  "language_info": {
   "codemirror_mode": {
    "name": "ipython",
    "version": 3
   },
   "file_extension": ".py",
   "mimetype": "text/x-python",
   "name": "python",
   "nbconvert_exporter": "python",
   "pygments_lexer": "ipython3",
   "version": "3.6.9"
  }
 },
 "nbformat": 4,
 "nbformat_minor": 4
}
