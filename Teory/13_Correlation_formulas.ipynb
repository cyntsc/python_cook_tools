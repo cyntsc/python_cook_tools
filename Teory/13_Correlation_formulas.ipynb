{
 "cells": [
  {
   "cell_type": "markdown",
   "metadata": {},
   "source": [
    "**Title: Thirteen Ways to Look at the Correlation Coefficient.** <br>\n",
    "Authors: JOSEPH LEE RODGERS and W. ALAN NICEWANDER* <br><br>\n",
    "Resume: <br>\n",
    "In 1885, **Sir Francis Galton** first defined the term \"regression\" and completed the theory of bivariate correlation. A decade later, **Karl Pearson** developed the index that we still use to measure correlation, **Pearson's r**. This article is written in recognition of the 100th anniversary of Galton's first\n",
    "discussion of regression and correlation. <br>\n",
    "They present 13 different formulas, each of which represents a different computational and conceptual definition of **r**. Each formula suggests a different way of thinking about this index, from algebraic, geometric, and\n",
    "trigonometric settings. We show that **Pearson's r** (or simple functions of r) may variously be thought of as a special type of mean, a special type of variance, the ratio of two means, the ratio of two variances, the slope of a line, the cosine of an angle, and the tangent to an ellipse, and may be looked at from several other interesting perspectives. <br>\n",
    "Galton's original work on the correlation was motivated by a very specific **biometric problem**. It is remarkable that such a focused effort would lead to the development of what is perhaps the most broadly applied index in all of statistics. <br>\n",
    "**Link: https://drive.google.com/file/d/1Fqe4sy--oit8s3L0Ypz1bUZXKQRcyfvW/view?usp=sharing**"
   ]
  },
  {
   "cell_type": "code",
   "execution_count": null,
   "metadata": {},
   "outputs": [],
   "source": []
  }
 ],
 "metadata": {
  "kernelspec": {
   "display_name": "Python 3",
   "language": "python",
   "name": "python3"
  },
  "language_info": {
   "codemirror_mode": {
    "name": "ipython",
    "version": 3
   },
   "file_extension": ".py",
   "mimetype": "text/x-python",
   "name": "python",
   "nbconvert_exporter": "python",
   "pygments_lexer": "ipython3",
   "version": "3.6.9"
  }
 },
 "nbformat": 4,
 "nbformat_minor": 4
}
