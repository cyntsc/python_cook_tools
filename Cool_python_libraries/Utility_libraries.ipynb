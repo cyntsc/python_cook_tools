{
 "cells": [
  {
   "cell_type": "markdown",
   "metadata": {},
   "source": [
    "import pandas as pd\n",
    "# ^^^ pyforest auto-imports - don't write above this line\n",
    "## PyForest library \n",
    "PyForest can import the 40 most popular libraries to your notebook with one line of code. Forget about trying to remember how to call each library."
   ]
  },
  {
   "cell_type": "markdown",
   "metadata": {},
   "source": [
    "#### Install the library and its Jupyter extension\n",
    "\n",
    "I am using pip, but use your favorite installer <br>\n",
    "This works well from the terminal (Linux or Anaconda prompt in Windows), enter:\n",
    "**$ pip install --upgrade pyforest <br>\n",
    "$ python -m pyforest install_extensions** <br>\n",
    "\n",
    "You will received a msg like:<br>\n",
    "Requirement already satisfied: pyforest in ./jn_tesis_env/lib/python3.6/site-packages (1.0.3)\n",
    "Also, you can verify the installation: <br>\n",
    "**$ pip freeze | grep pyforest** <br>\n",
    "\n",
    "**Please make sure to restart any running Jupyter server so that the javascript extension can be loaded properly.**<br>\n",
    "Link: https://pypi.org/project/pyforest/"
   ]
  },
  {
   "cell_type": "code",
   "execution_count": 2,
   "metadata": {},
   "outputs": [],
   "source": [
    "### import the library\n",
    "from pyforest import *"
   ]
  },
  {
   "cell_type": "code",
   "execution_count": 3,
   "metadata": {
    "collapsed": true
   },
   "outputs": [
    {
     "data": {
      "text/plain": [
       "['import matplotlib as mpl',\n",
       " 'import xgboost as xgb',\n",
       " 'from pyspark import SparkContext',\n",
       " 'import os',\n",
       " 'import statistics',\n",
       " 'import datetime as dt',\n",
       " 'from sklearn.preprocessing import OneHotEncoder',\n",
       " 'import re',\n",
       " 'from sklearn import svm',\n",
       " 'import awswrangler as wr',\n",
       " 'import numpy as np',\n",
       " 'import plotly.express as px',\n",
       " 'import plotly.graph_objs as go',\n",
       " 'import plotly as py',\n",
       " 'import altair as alt',\n",
       " 'import pandas as pd',\n",
       " 'from pathlib import Path',\n",
       " 'import nltk',\n",
       " 'import gensim',\n",
       " 'import spacy',\n",
       " 'from sklearn.model_selection import train_test_split',\n",
       " 'from sklearn.manifold import TSNE',\n",
       " 'from openpyxl import load_workbook',\n",
       " 'import pickle',\n",
       " 'import lightgbm as lgb',\n",
       " 'from sklearn.ensemble import GradientBoostingRegressor',\n",
       " 'import glob',\n",
       " 'from sklearn.ensemble import RandomForestClassifier',\n",
       " 'from sklearn.feature_extraction.text import TfidfVectorizer',\n",
       " 'import seaborn as sns',\n",
       " 'import sys',\n",
       " 'import keras',\n",
       " 'import tensorflow as tf',\n",
       " 'from sklearn.ensemble import RandomForestRegressor',\n",
       " 'import pydot',\n",
       " 'from dask import dataframe as dd',\n",
       " 'import bokeh',\n",
       " 'import sklearn',\n",
       " 'from sklearn.ensemble import GradientBoostingClassifier',\n",
       " 'import tqdm',\n",
       " 'import matplotlib.pyplot as plt',\n",
       " 'import dash']"
      ]
     },
     "execution_count": 3,
     "metadata": {},
     "output_type": "execute_result"
    }
   ],
   "source": [
    "lazy_imports()"
   ]
  },
  {
   "cell_type": "markdown",
   "metadata": {},
   "source": [
    "#### Using pyforest\n",
    "For example, if you want to read a CSV with pandas, pyforest will automatically import pandas for you and add the import statement to the first cell: <br>\n",
    "import pandas as pd"
   ]
  },
  {
   "cell_type": "code",
   "execution_count": 18,
   "metadata": {},
   "outputs": [
    {
     "data": {
      "application/javascript": [
       "\n",
       "        if (window._pyforest_update_imports_cell) { window._pyforest_update_imports_cell('import pandas as pd'); }\n",
       "    "
      ],
      "text/plain": [
       "<IPython.core.display.Javascript object>"
      ]
     },
     "metadata": {},
     "output_type": "display_data"
    },
    {
     "data": {
      "application/javascript": [
       "\n",
       "        if (window._pyforest_update_imports_cell) { window._pyforest_update_imports_cell('import pandas as pd'); }\n",
       "    "
      ],
      "text/plain": [
       "<IPython.core.display.Javascript object>"
      ]
     },
     "metadata": {},
     "output_type": "display_data"
    }
   ],
   "source": [
    "#df = pd.read_csv(\"/home/cyntsc/Proyectos/tesis-code/python_cook_tools/Data/athal3_htseq-counts/SRR3383696\", header=None, sep='\\t')\n",
    "df1 = pd.read_csv(\"/home/cyntsc/Proyectos/tesis-code/python_cook_tools/Data/matrix_B_healthy.csv\", sep=',')"
   ]
  },
  {
   "cell_type": "code",
   "execution_count": 19,
   "metadata": {},
   "outputs": [
    {
     "data": {
      "text/html": [
       "<div>\n",
       "<style scoped>\n",
       "    .dataframe tbody tr th:only-of-type {\n",
       "        vertical-align: middle;\n",
       "    }\n",
       "\n",
       "    .dataframe tbody tr th {\n",
       "        vertical-align: top;\n",
       "    }\n",
       "\n",
       "    .dataframe thead th {\n",
       "        text-align: right;\n",
       "    }\n",
       "</style>\n",
       "<table border=\"1\" class=\"dataframe\">\n",
       "  <thead>\n",
       "    <tr style=\"text-align: right;\">\n",
       "      <th></th>\n",
       "      <th>Genes</th>\n",
       "      <th>healthy30.1</th>\n",
       "      <th>healthy30</th>\n",
       "      <th>healthy12</th>\n",
       "      <th>healthy18.1</th>\n",
       "      <th>healthy18</th>\n",
       "      <th>healthy24.1</th>\n",
       "      <th>healthy12.1</th>\n",
       "      <th>healthy24</th>\n",
       "    </tr>\n",
       "  </thead>\n",
       "  <tbody>\n",
       "    <tr>\n",
       "      <th>0</th>\n",
       "      <td>AT1G01020</td>\n",
       "      <td>8.481504</td>\n",
       "      <td>7.117987</td>\n",
       "      <td>9.930001</td>\n",
       "      <td>8.064622</td>\n",
       "      <td>7.242760</td>\n",
       "      <td>8.547044</td>\n",
       "      <td>11.851669</td>\n",
       "      <td>9.253677</td>\n",
       "    </tr>\n",
       "    <tr>\n",
       "      <th>1</th>\n",
       "      <td>AT1G01030</td>\n",
       "      <td>1.576824</td>\n",
       "      <td>1.775939</td>\n",
       "      <td>1.944407</td>\n",
       "      <td>1.457672</td>\n",
       "      <td>1.840952</td>\n",
       "      <td>2.418057</td>\n",
       "      <td>1.588581</td>\n",
       "      <td>0.934345</td>\n",
       "    </tr>\n",
       "    <tr>\n",
       "      <th>2</th>\n",
       "      <td>AT1G01040</td>\n",
       "      <td>28.536082</td>\n",
       "      <td>25.215784</td>\n",
       "      <td>21.880177</td>\n",
       "      <td>21.146623</td>\n",
       "      <td>17.801531</td>\n",
       "      <td>13.734209</td>\n",
       "      <td>23.615383</td>\n",
       "      <td>15.053898</td>\n",
       "    </tr>\n",
       "    <tr>\n",
       "      <th>3</th>\n",
       "      <td>AT1G01050</td>\n",
       "      <td>100.853550</td>\n",
       "      <td>107.074806</td>\n",
       "      <td>106.224731</td>\n",
       "      <td>114.017085</td>\n",
       "      <td>117.076965</td>\n",
       "      <td>51.266696</td>\n",
       "      <td>111.674970</td>\n",
       "      <td>59.331266</td>\n",
       "    </tr>\n",
       "    <tr>\n",
       "      <th>4</th>\n",
       "      <td>AT1G01060</td>\n",
       "      <td>0.304245</td>\n",
       "      <td>0.099684</td>\n",
       "      <td>15.111715</td>\n",
       "      <td>715.291922</td>\n",
       "      <td>600.107458</td>\n",
       "      <td>11.610955</td>\n",
       "      <td>21.151952</td>\n",
       "      <td>14.058188</td>\n",
       "    </tr>\n",
       "  </tbody>\n",
       "</table>\n",
       "</div>"
      ],
      "text/plain": [
       "       Genes  healthy30.1   healthy30   healthy12  healthy18.1   healthy18  \\\n",
       "0  AT1G01020     8.481504    7.117987    9.930001     8.064622    7.242760   \n",
       "1  AT1G01030     1.576824    1.775939    1.944407     1.457672    1.840952   \n",
       "2  AT1G01040    28.536082   25.215784   21.880177    21.146623   17.801531   \n",
       "3  AT1G01050   100.853550  107.074806  106.224731   114.017085  117.076965   \n",
       "4  AT1G01060     0.304245    0.099684   15.111715   715.291922  600.107458   \n",
       "\n",
       "   healthy24.1  healthy12.1  healthy24  \n",
       "0     8.547044    11.851669   9.253677  \n",
       "1     2.418057     1.588581   0.934345  \n",
       "2    13.734209    23.615383  15.053898  \n",
       "3    51.266696   111.674970  59.331266  \n",
       "4    11.610955    21.151952  14.058188  "
      ]
     },
     "execution_count": 19,
     "metadata": {},
     "output_type": "execute_result"
    }
   ],
   "source": [
    "df1.head(5)"
   ]
  },
  {
   "cell_type": "markdown",
   "metadata": {},
   "source": [
    "## Sweetviz library"
   ]
  },
  {
   "cell_type": "markdown",
   "metadata": {},
   "source": [
    "Sweetviz is an open-source Python library that generates beautiful, high-density visualizations to kickstart EDA (Exploratory Data Analysis) with just two lines of code. Output is a fully self-contained HTML application. <br>\n",
    "\n",
    "#### Install the library and its Jupyter extension\n",
    "\n",
    "I am using pip, but use your favorite installer <br>\n",
    "This works well from the terminal (Linux or Anaconda prompt in Windows), enter:\n",
    "**$ pip install sweetviz** <br>\n",
    "\n",
    "You will received a msg like:<br>\n",
    "Successfully installed importlib-resources-5.1.4 sweetviz-2.1.2 tqdm-4.61.0\n",
    "Also, you can verify the installation: <br>\n",
    "**$ pip freeze | grep sweetviz** <br>\n",
    "\n",
    "**Please make sure to restart any running Jupyter server so that the javascript extension can be loaded properly.**<br>\n",
    "Link: https://pypi.org/project/sweetviz/"
   ]
  },
  {
   "cell_type": "markdown",
   "metadata": {},
   "source": [
    "#### Using pyforest\n",
    "There are 3 main functions for creating reports: <br>\n",
    "    analyze(...)<br>\n",
    "    compare(...)<br>\n",
    "    compare_intra(...)<br>"
   ]
  },
  {
   "cell_type": "code",
   "execution_count": 14,
   "metadata": {},
   "outputs": [
    {
     "data": {
      "application/vnd.jupyter.widget-view+json": {
       "model_id": "f4c03e2d783f461eb5935946c3e4831a",
       "version_major": 2,
       "version_minor": 0
      },
      "text/plain": [
       "                                             |          | [  0%]   00:00 -> (? left)"
      ]
     },
     "metadata": {},
     "output_type": "display_data"
    },
    {
     "name": "stdout",
     "output_type": "stream",
     "text": [
      "Report SWEETVIZ_REPORT.html was generated! NOTEBOOK/COLAB USERS: the web browser MAY not pop up, regardless, the report IS saved in your notebook/colab files.\n"
     ]
    }
   ],
   "source": [
    "import sweetviz as sv"
   ]
  },
  {
   "cell_type": "code",
   "execution_count": 20,
   "metadata": {},
   "outputs": [
    {
     "data": {
      "application/vnd.jupyter.widget-view+json": {
       "model_id": "6b2ed3842dc34b74852eeec615abc0b5",
       "version_major": 2,
       "version_minor": 0
      },
      "text/plain": [
       "                                             |          | [  0%]   00:00 -> (? left)"
      ]
     },
     "metadata": {},
     "output_type": "display_data"
    },
    {
     "name": "stdout",
     "output_type": "stream",
     "text": [
      "Report SWEETVIZ_REPORT.html was generated! NOTEBOOK/COLAB USERS: the web browser MAY not pop up, regardless, the report IS saved in your notebook/colab files.\n"
     ]
    }
   ],
   "source": [
    "my_report = sv.analyze(df1)\n",
    "my_report.show_html() # Default arguments will generate to \"SWEETVIZ_REPORT.html\""
   ]
  },
  {
   "cell_type": "code",
   "execution_count": null,
   "metadata": {},
   "outputs": [],
   "source": []
  }
 ],
 "metadata": {
  "kernelspec": {
   "display_name": "Python 3",
   "language": "python",
   "name": "python3"
  },
  "language_info": {
   "codemirror_mode": {
    "name": "ipython",
    "version": 3
   },
   "file_extension": ".py",
   "mimetype": "text/x-python",
   "name": "python",
   "nbconvert_exporter": "python",
   "pygments_lexer": "ipython3",
   "version": "3.6.9"
  }
 },
 "nbformat": 4,
 "nbformat_minor": 4
}
